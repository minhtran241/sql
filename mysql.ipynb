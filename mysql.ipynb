{
 "cells": [
  {
   "cell_type": "code",
   "execution_count": 60,
   "metadata": {},
   "outputs": [],
   "source": [
    "# Import libraries\n",
    "import mysql.connector\n",
    "from mysql.connector import Error\n",
    "import pandas as pd\n"
   ]
  },
  {
   "cell_type": "code",
   "execution_count": 61,
   "metadata": {},
   "outputs": [
    {
     "name": "stdout",
     "output_type": "stream",
     "text": [
      "MySQL Database connection successful\n"
     ]
    }
   ],
   "source": [
    "def create_server_connection(host_name, user_name, user_password):\n",
    "    connection = None\n",
    "    try:\n",
    "        connection = mysql.connector.connect(\n",
    "            host=host_name, user=user_name, passwd=user_password\n",
    "        )\n",
    "        print(\"MySQL Database connection successful\")\n",
    "    except Error as err:\n",
    "        print(f\"Error: {err}\")\n",
    "    return connection\n",
    "\n",
    "\n",
    "# Database name\n",
    "db = \"mysql_python\"\n",
    "connection = create_server_connection(\"localhost\", \"root\", None)\n"
   ]
  },
  {
   "cell_type": "code",
   "execution_count": 62,
   "metadata": {},
   "outputs": [
    {
     "name": "stdout",
     "output_type": "stream",
     "text": [
      "Database created successfully\n"
     ]
    }
   ],
   "source": [
    "# Create mysql_python\n",
    "def create_database(connection, query):\n",
    "    cursor = connection.cursor()\n",
    "    try:\n",
    "        cursor.execute(query)\n",
    "        print(\"Database created successfully\")\n",
    "    except Error as err:\n",
    "        print(f\"Error: {err}\")\n",
    "\n",
    "\n",
    "create_database_query = f\"CREATE DATABASE {db}\"\n",
    "create_database(connection, create_database_query)\n"
   ]
  },
  {
   "cell_type": "code",
   "execution_count": 63,
   "metadata": {},
   "outputs": [],
   "source": [
    "# Connect to database\n",
    "def create_db_connection(host_name, user_name, user_password, db_name):\n",
    "    connection = None\n",
    "    try:\n",
    "        connection = mysql.connector.connect(\n",
    "            host=host_name, user=user_name, passwd=user_password, database=db_name\n",
    "        )\n",
    "        print(\"MySQL database connection successful\")\n",
    "    except Error as err:\n",
    "        print(f\"Error: {err}\")\n",
    "    return connection\n"
   ]
  },
  {
   "cell_type": "code",
   "execution_count": 64,
   "metadata": {},
   "outputs": [],
   "source": [
    "# Execute sql queries\n",
    "def execute_query(connection, query):\n",
    "    cursor = connection.cursor()\n",
    "    try:\n",
    "        cursor.execute(query)\n",
    "        connection.commit()\n",
    "        print(\"Query was successful\")\n",
    "    except Error as err:\n",
    "        print(f\"Error: {err}\")\n"
   ]
  },
  {
   "cell_type": "code",
   "execution_count": 65,
   "metadata": {},
   "outputs": [
    {
     "name": "stdout",
     "output_type": "stream",
     "text": [
      "MySQL database connection successful\n",
      "Query was successful\n"
     ]
    }
   ],
   "source": [
    "create_orders_table = \"\"\"\n",
    "CREATE TABLE orders(\n",
    "\torder_id INT AUTO_INCREMENT, \n",
    "\tcustomer_name VARCHAR(30) NOT NULL, \n",
    "\tproduct_name VARCHAR(20) NOT NULL, \n",
    "\tdate_ordered DATE, \n",
    "\tquantity INT, \n",
    "\tunit_price FLOAT, \n",
    "\tphone_number VARCHAR(20),\n",
    "\tPRIMARY KEY (order_id)\n",
    "\t);\n",
    "\"\"\"\n",
    "# Connect to the database\n",
    "connection = create_db_connection(\"localhost\", \"root\", None, db)\n",
    "execute_query(connection, create_orders_table)\n"
   ]
  },
  {
   "cell_type": "code",
   "execution_count": 66,
   "metadata": {},
   "outputs": [
    {
     "name": "stdout",
     "output_type": "stream",
     "text": [
      "MySQL database connection successful\n",
      "Query was successful\n"
     ]
    }
   ],
   "source": [
    "# Insert data\n",
    "data_orders = \"\"\"\n",
    "INSERT INTO orders \n",
    "(customer_name, product_name, date_ordered, quantity, unit_price, phone_number)\n",
    "VALUES \n",
    "('Steve', 'Laptop', '2018-06-12', 2, 800, '6293730802'),\n",
    "('David', 'Books', '2019-12-25', 10, 12, '8367489124'),\n",
    "('Mark', 'Trousers', '2018-03-14', 5, 30, '7368145099'),\n",
    "('DeVasto', 'Headphones', '2019-05-30', 7, 48, '8865316698'),\n",
    "('Ham', 'Smart TV', '2018-08-20', 10, 300, '7720130449');\n",
    "\"\"\"\n",
    "# Connect to the database\n",
    "connection = create_db_connection(\"localhost\", \"root\", None, db)\n",
    "execute_query(connection, data_orders)\n"
   ]
  },
  {
   "cell_type": "code",
   "execution_count": 67,
   "metadata": {},
   "outputs": [],
   "source": [
    "def read_query(connection, query):\n",
    "    cursor = connection.cursor()\n",
    "    result = None\n",
    "    try:\n",
    "        cursor.execute(query)\n",
    "        result = cursor.fetchall()\n",
    "        return result\n",
    "    except Error as err:\n",
    "        print(f\"Error: {err}\")\n"
   ]
  },
  {
   "cell_type": "code",
   "execution_count": 68,
   "metadata": {},
   "outputs": [
    {
     "name": "stdout",
     "output_type": "stream",
     "text": [
      "MySQL database connection successful\n",
      "(1, 'Steve', 'Laptop', datetime.date(2018, 6, 12), 2, 800.0, '6293730802')\n",
      "(2, 'David', 'Books', datetime.date(2019, 12, 25), 10, 12.0, '8367489124')\n",
      "(3, 'Mark', 'Trousers', datetime.date(2018, 3, 14), 5, 30.0, '7368145099')\n",
      "(4, 'DeVasto', 'Headphones', datetime.date(2019, 5, 30), 7, 48.0, '8865316698')\n",
      "(5, 'Ham', 'Smart TV', datetime.date(2018, 8, 20), 10, 300.0, '7720130449')\n"
     ]
    }
   ],
   "source": [
    "# Using the select stmt\n",
    "q1 = \"\"\"\n",
    "SELECT * FROM orders;\n",
    "\"\"\"\n",
    "connection = create_db_connection(\"localhost\", \"root\", None, db)\n",
    "results = read_query(connection, q1)\n",
    "for res in results:\n",
    "    print(res)\n"
   ]
  },
  {
   "cell_type": "code",
   "execution_count": 69,
   "metadata": {},
   "outputs": [
    {
     "name": "stdout",
     "output_type": "stream",
     "text": [
      "MySQL database connection successful\n",
      "('Steve', '6293730802')\n",
      "('David', '8367489124')\n",
      "('Mark', '7368145099')\n",
      "('DeVasto', '8865316698')\n",
      "('Ham', '7720130449')\n"
     ]
    }
   ],
   "source": [
    "q2 = \"\"\"\n",
    "SELECT customer_name, phone_number FROM orders;\n",
    "\"\"\"\n",
    "connection = create_db_connection(\"localhost\", \"root\", None, db)\n",
    "results = read_query(connection, q2)\n",
    "for res in results:\n",
    "    print(res)\n"
   ]
  },
  {
   "cell_type": "code",
   "execution_count": 70,
   "metadata": {},
   "outputs": [
    {
     "name": "stdout",
     "output_type": "stream",
     "text": [
      "MySQL database connection successful\n",
      "(2018,)\n",
      "(2019,)\n"
     ]
    }
   ],
   "source": [
    "q3 = \"\"\"\n",
    "SELECT DISTINCT year(date_ordered) FROM orders;\n",
    "\"\"\"\n",
    "connection = create_db_connection(\"localhost\", \"root\", None, db)\n",
    "results = read_query(connection, q3)\n",
    "for res in results:\n",
    "    print(res)\n"
   ]
  },
  {
   "cell_type": "code",
   "execution_count": 71,
   "metadata": {},
   "outputs": [
    {
     "name": "stdout",
     "output_type": "stream",
     "text": [
      "MySQL database connection successful\n",
      "(1, 'Steve', 'Laptop', datetime.date(2018, 6, 12), 2, 800.0, '6293730802')\n",
      "(3, 'Mark', 'Trousers', datetime.date(2018, 3, 14), 5, 30.0, '7368145099')\n",
      "(5, 'Ham', 'Smart TV', datetime.date(2018, 8, 20), 10, 300.0, '7720130449')\n"
     ]
    }
   ],
   "source": [
    "q4 = \"\"\"\n",
    "SELECT * FROM orders WHERE date_ordered < '2018-12-31';\n",
    "\"\"\"\n",
    "connection = create_db_connection(\"localhost\", \"root\", None, db)\n",
    "results = read_query(connection, q4)\n",
    "for res in results:\n",
    "    print(res)\n"
   ]
  },
  {
   "cell_type": "code",
   "execution_count": 72,
   "metadata": {},
   "outputs": [
    {
     "data": {
      "text/html": [
       "<div>\n",
       "<style scoped>\n",
       "    .dataframe tbody tr th:only-of-type {\n",
       "        vertical-align: middle;\n",
       "    }\n",
       "\n",
       "    .dataframe tbody tr th {\n",
       "        vertical-align: top;\n",
       "    }\n",
       "\n",
       "    .dataframe thead th {\n",
       "        text-align: right;\n",
       "    }\n",
       "</style>\n",
       "<table border=\"1\" class=\"dataframe\">\n",
       "  <thead>\n",
       "    <tr style=\"text-align: right;\">\n",
       "      <th></th>\n",
       "      <th>order_id</th>\n",
       "      <th>customer_name</th>\n",
       "      <th>product_name</th>\n",
       "      <th>date_ordered</th>\n",
       "      <th>quantity</th>\n",
       "      <th>unit_price</th>\n",
       "      <th>phone_number</th>\n",
       "    </tr>\n",
       "  </thead>\n",
       "  <tbody>\n",
       "    <tr>\n",
       "      <th>0</th>\n",
       "      <td>1</td>\n",
       "      <td>Steve</td>\n",
       "      <td>Laptop</td>\n",
       "      <td>2018-06-12</td>\n",
       "      <td>2</td>\n",
       "      <td>800.0</td>\n",
       "      <td>6293730802</td>\n",
       "    </tr>\n",
       "    <tr>\n",
       "      <th>1</th>\n",
       "      <td>3</td>\n",
       "      <td>Mark</td>\n",
       "      <td>Trousers</td>\n",
       "      <td>2018-03-14</td>\n",
       "      <td>5</td>\n",
       "      <td>30.0</td>\n",
       "      <td>7368145099</td>\n",
       "    </tr>\n",
       "    <tr>\n",
       "      <th>2</th>\n",
       "      <td>5</td>\n",
       "      <td>Ham</td>\n",
       "      <td>Smart TV</td>\n",
       "      <td>2018-08-20</td>\n",
       "      <td>10</td>\n",
       "      <td>300.0</td>\n",
       "      <td>7720130449</td>\n",
       "    </tr>\n",
       "  </tbody>\n",
       "</table>\n",
       "</div>"
      ],
      "text/plain": [
       "   order_id customer_name product_name date_ordered  quantity  unit_price  \\\n",
       "0         1         Steve       Laptop   2018-06-12         2       800.0   \n",
       "1         3          Mark     Trousers   2018-03-14         5        30.0   \n",
       "2         5           Ham     Smart TV   2018-08-20        10       300.0   \n",
       "\n",
       "  phone_number  \n",
       "0   6293730802  \n",
       "1   7368145099  \n",
       "2   7720130449  "
      ]
     },
     "metadata": {},
     "output_type": "display_data"
    }
   ],
   "source": [
    "from_db = []\n",
    "\n",
    "for res in results:\n",
    "    res = list(res)\n",
    "    from_db.append(res)\n",
    "columns = [\n",
    "    \"order_id\",\n",
    "    \"customer_name\",\n",
    "    \"product_name\",\n",
    "    \"date_ordered\",\n",
    "    \"quantity\",\n",
    "    \"unit_price\",\n",
    "    \"phone_number\",\n",
    "]\n",
    "df = pd.DataFrame(from_db, columns=columns)\n",
    "display(df)\n"
   ]
  },
  {
   "cell_type": "code",
   "execution_count": 73,
   "metadata": {},
   "outputs": [
    {
     "name": "stdout",
     "output_type": "stream",
     "text": [
      "MySQL database connection successful\n",
      "Query was successful\n"
     ]
    }
   ],
   "source": [
    "# Update command\n",
    "\n",
    "update = \"\"\"\n",
    "UPDATE orders\n",
    "SET unit_price = 48\n",
    "WHERE order_id = 1;\n",
    "\"\"\"\n",
    "connection = create_db_connection(\"localhost\", \"root\", None, db)\n",
    "execute_query(connection, update)\n"
   ]
  },
  {
   "cell_type": "code",
   "execution_count": 74,
   "metadata": {},
   "outputs": [
    {
     "name": "stdout",
     "output_type": "stream",
     "text": [
      "MySQL database connection successful\n",
      "(48.0,)\n"
     ]
    }
   ],
   "source": [
    "# Using the select stmt\n",
    "q5 = \"\"\"\n",
    "SELECT unit_price FROM orders WHERE order_id = 1;\n",
    "\"\"\"\n",
    "connection = create_db_connection(\"localhost\", \"root\", None, db)\n",
    "results = read_query(connection, q5)\n",
    "for res in results:\n",
    "    print(res)\n"
   ]
  },
  {
   "cell_type": "code",
   "execution_count": 75,
   "metadata": {},
   "outputs": [
    {
     "name": "stdout",
     "output_type": "stream",
     "text": [
      "MySQL database connection successful\n",
      "Query was successful\n"
     ]
    }
   ],
   "source": [
    "# Delete command\n",
    "\n",
    "delete_order = \"\"\"\n",
    "DELETE FROM orders WHERE order_id = 5;\n",
    "\"\"\"\n",
    "connection = create_db_connection(\"localhost\", \"root\", None, db)\n",
    "execute_query(connection, delete_order)\n"
   ]
  },
  {
   "cell_type": "code",
   "execution_count": 76,
   "metadata": {},
   "outputs": [
    {
     "name": "stdout",
     "output_type": "stream",
     "text": [
      "MySQL database connection successful\n",
      "(1, 'Steve', 'Laptop', datetime.date(2018, 6, 12), 2, 48.0, '6293730802')\n",
      "(2, 'David', 'Books', datetime.date(2019, 12, 25), 10, 12.0, '8367489124')\n",
      "(3, 'Mark', 'Trousers', datetime.date(2018, 3, 14), 5, 30.0, '7368145099')\n",
      "(4, 'DeVasto', 'Headphones', datetime.date(2019, 5, 30), 7, 48.0, '8865316698')\n"
     ]
    }
   ],
   "source": [
    "q6 = \"\"\"\n",
    "SELECT * FROM orders;\n",
    "\"\"\"\n",
    "connection = create_db_connection(\"localhost\", \"root\", None, db)\n",
    "results = read_query(connection, q6)\n",
    "for res in results:\n",
    "    print(res)\n"
   ]
  }
 ],
 "metadata": {
  "kernelspec": {
   "display_name": "Python 3",
   "language": "python",
   "name": "python3"
  },
  "language_info": {
   "codemirror_mode": {
    "name": "ipython",
    "version": 3
   },
   "file_extension": ".py",
   "mimetype": "text/x-python",
   "name": "python",
   "nbconvert_exporter": "python",
   "pygments_lexer": "ipython3",
   "version": "3.11.0"
  },
  "orig_nbformat": 4,
  "vscode": {
   "interpreter": {
    "hash": "994dbfcc5b46f38b9a2be22cf32e51c74700dedca80446d87e5f1b27519b76c2"
   }
  }
 },
 "nbformat": 4,
 "nbformat_minor": 2
}
